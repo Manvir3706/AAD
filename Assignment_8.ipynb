{
  "nbformat": 4,
  "nbformat_minor": 0,
  "metadata": {
    "colab": {
      "provenance": []
    },
    "kernelspec": {
      "name": "python3",
      "display_name": "Python 3"
    },
    "language_info": {
      "name": "python"
    }
  },
  "cells": [
    {
      "cell_type": "markdown",
      "source": [
        "# Assignment-8\n",
        "\n",
        "*Manvir Singh 102115094 3NC4*\n",
        "\n",
        "Write a program to implement Bellman ford algorithm for shortest path."
      ],
      "metadata": {
        "id": "GrOiIWCTVWsJ"
      }
    },
    {
      "cell_type": "code",
      "execution_count": 1,
      "metadata": {
        "colab": {
          "base_uri": "https://localhost:8080/"
        },
        "id": "2zZV6AlZVU72",
        "outputId": "6db1e96a-d36c-42c2-ef32-09c56e8ff04e"
      },
      "outputs": [
        {
          "output_type": "stream",
          "name": "stdout",
          "text": [
            "Vertex \t Distance from Source\n",
            "0\t\t0\n",
            "1\t\t-1\n",
            "2\t\t2\n",
            "3\t\t-2\n",
            "4\t\t1\n"
          ]
        }
      ],
      "source": [
        "class Graph:\n",
        "    def __init__(self, vertices):\n",
        "        self.V = vertices\n",
        "        self.graph = []\n",
        "\n",
        "    def add_edge(self, u, v, w):\n",
        "        self.graph.append([u, v, w])\n",
        "\n",
        "    def bellman_ford(self, source):\n",
        "        # Initialize distances from the source to all vertices as infinity\n",
        "        distances = [float('inf')] * self.V\n",
        "        distances[source] = 0\n",
        "\n",
        "        # Relax all edges V-1 times\n",
        "        for _ in range(self.V - 1):\n",
        "            for u, v, w in self.graph:\n",
        "                if distances[u] != float('inf') and distances[u] + w < distances[v]:\n",
        "                    distances[v] = distances[u] + w\n",
        "\n",
        "        # Check for negative weight cycles\n",
        "        for u, v, w in self.graph:\n",
        "            if distances[u] != float('inf') and distances[u] + w < distances[v]:\n",
        "                print(\"Graph contains negative weight cycle\")\n",
        "                return\n",
        "\n",
        "        # Print the distances from the source vertex\n",
        "        self.print_solution(distances)\n",
        "\n",
        "    def print_solution(self, distances):\n",
        "        print(\"Vertex \\t Distance from Source\")\n",
        "        for i in range(self.V):\n",
        "            print(f\"{i}\\t\\t{distances[i]}\")\n",
        "\n",
        "# Example usage\n",
        "g = Graph(5)\n",
        "g.add_edge(0, 1, -1)\n",
        "g.add_edge(0, 2, 4)\n",
        "g.add_edge(1, 2, 3)\n",
        "g.add_edge(1, 3, 2)\n",
        "g.add_edge(1, 4, 2)\n",
        "g.add_edge(3, 2, 5)\n",
        "g.add_edge(3, 1, 1)\n",
        "g.add_edge(4, 3, -3)\n",
        "\n",
        "source_vertex = 0\n",
        "g.bellman_ford(source_vertex)\n"
      ]
    }
  ]
}