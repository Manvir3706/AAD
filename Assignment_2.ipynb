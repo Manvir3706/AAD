{
  "nbformat": 4,
  "nbformat_minor": 0,
  "metadata": {
    "colab": {
      "provenance": []
    },
    "kernelspec": {
      "name": "python3",
      "display_name": "Python 3"
    },
    "language_info": {
      "name": "python"
    }
  },
  "cells": [
    {
      "cell_type": "markdown",
      "source": [
        "**ASSIGNMENT-2**\n",
        "\n",
        "*Manvir Singh 3NC4 102115094*\n",
        "\n",
        "Analysis the complexity of algorithms\n",
        "\n",
        " i.) Code the logic in any programming language (C/C++/Java/Python)\n",
        "\n",
        "ii.) Analysis of each and every algorithm and give its complexity."
      ],
      "metadata": {
        "id": "QsrgFcxBN612"
      }
    },
    {
      "cell_type": "markdown",
      "source": [
        "A. Map two lists into a dictionary.\n"
      ],
      "metadata": {
        "id": "ym9_TREaOOCV"
      }
    },
    {
      "cell_type": "code",
      "execution_count": 3,
      "metadata": {
        "colab": {
          "base_uri": "https://localhost:8080/"
        },
        "id": "q-YTyYFxNn65",
        "outputId": "ee9f4e57-2ae7-4a8d-b2a4-e5809efbeaed"
      },
      "outputs": [
        {
          "output_type": "stream",
          "name": "stdout",
          "text": [
            "{'A': 10, 'B': 20, 'C': 30}\n"
          ]
        }
      ],
      "source": [
        "def lists_to_dict(list1, list2):\n",
        "    if len(list1) != len(list2):\n",
        "        return None\n",
        "\n",
        "    dict1 = {}\n",
        "    for i in range(len(list1)):\n",
        "        dict1[list1[i]] = list2[i]\n",
        "\n",
        "    return dict1\n",
        "\n",
        "list1 = [\"A\", \"B\", \"C\"]\n",
        "list2 = [10, 20, 30]\n",
        "result = lists_to_dict(list1, list2)\n",
        "print(result)"
      ]
    },
    {
      "cell_type": "markdown",
      "source": [
        "Time Complexity:- O(n)"
      ],
      "metadata": {
        "id": "T8FTBMqRPaEB"
      }
    },
    {
      "cell_type": "markdown",
      "source": [
        "B. Count the frequency of words appearing in a string using\n",
        "a dictionary."
      ],
      "metadata": {
        "id": "i-QO6405PgKI"
      }
    },
    {
      "cell_type": "code",
      "source": [
        "def word_frequency(text):\n",
        "    count = {}\n",
        "    words = text.split()\n",
        "\n",
        "    for i in words:\n",
        "        if i in count:\n",
        "            count[i] += 1\n",
        "        else:\n",
        "            count[i] = 1\n",
        "\n",
        "    return count\n",
        "\n",
        "sample = \"This is a simple test This is simple\"\n",
        "result = word_frequency(sample)\n",
        "print(result)"
      ],
      "metadata": {
        "colab": {
          "base_uri": "https://localhost:8080/"
        },
        "id": "brgYtJFnPi-6",
        "outputId": "131ead09-df75-429d-b988-46b2397ee777"
      },
      "execution_count": 5,
      "outputs": [
        {
          "output_type": "stream",
          "name": "stdout",
          "text": [
            "{'This': 2, 'is': 2, 'a': 1, 'simple': 2, 'test': 1}\n"
          ]
        }
      ]
    },
    {
      "cell_type": "markdown",
      "source": [
        "Time Complexity:- O(n)"
      ],
      "metadata": {
        "id": "YDsf-w1oQPVL"
      }
    },
    {
      "cell_type": "markdown",
      "source": [
        "C. Create a dictionary with the key as the first character\n",
        "and value as words starting With that character"
      ],
      "metadata": {
        "id": "65xcT_rRQWBD"
      }
    },
    {
      "cell_type": "code",
      "source": [
        "def dict_by_first_char(text):\n",
        "    dict1 = {}\n",
        "    words = text.split()\n",
        "\n",
        "    for i in words:\n",
        "        first_char = i[0]\n",
        "        if first_char in dict1:\n",
        "            dict1[first_char].append(i)\n",
        "        else:\n",
        "            dict1[first_char] = [i]\n",
        "\n",
        "    return dict1\n",
        "\n",
        "text = \"Apple banana cat dog elephant\"\n",
        "result = dict_by_first_char(text)\n",
        "print(result)"
      ],
      "metadata": {
        "colab": {
          "base_uri": "https://localhost:8080/"
        },
        "id": "U1FX8wYNQYwH",
        "outputId": "4b111e92-6b66-4fbc-abfb-7b797f8f0e78"
      },
      "execution_count": 7,
      "outputs": [
        {
          "output_type": "stream",
          "name": "stdout",
          "text": [
            "{'A': ['Apple'], 'b': ['banana'], 'c': ['cat'], 'd': ['dog'], 'e': ['elephant']}\n"
          ]
        }
      ]
    },
    {
      "cell_type": "markdown",
      "source": [
        "Time Complexity:- O(n)"
      ],
      "metadata": {
        "id": "ARYRVJAqRinz"
      }
    },
    {
      "cell_type": "markdown",
      "source": [
        "D. Find the length of a list using recursion."
      ],
      "metadata": {
        "id": "Txk3e4scRoNu"
      }
    },
    {
      "cell_type": "code",
      "source": [
        "def length_recursive(arr):\n",
        "    if not arr:\n",
        "        return 0\n",
        "    else:\n",
        "        return 1 + length_recursive(arr[1:])\n",
        "\n",
        "\n",
        "my_list = [1, 2, 3, 4, 5]\n",
        "length = length_recursive(my_list)\n",
        "print(length)\n"
      ],
      "metadata": {
        "colab": {
          "base_uri": "https://localhost:8080/"
        },
        "id": "oUBn_ik1Rqdo",
        "outputId": "f3195287-81dd-4e4c-dcae-bd8218089748"
      },
      "execution_count": 8,
      "outputs": [
        {
          "output_type": "stream",
          "name": "stdout",
          "text": [
            "5\n"
          ]
        }
      ]
    },
    {
      "cell_type": "markdown",
      "source": [
        "Time Complexity:- O(n)"
      ],
      "metadata": {
        "id": "uG9tzADoSANW"
      }
    },
    {
      "cell_type": "markdown",
      "source": [
        "E. Read a file and capitalize the first letter of\n",
        "every word in the file"
      ],
      "metadata": {
        "id": "Xns4Qvr6SDmM"
      }
    },
    {
      "cell_type": "code",
      "source": [
        "def capitalize_words(input_string):\n",
        "    words = input_string.split()\n",
        "    capitalized_words = [word.capitalize() for word in words]\n",
        "    return ' '.join(capitalized_words)\n",
        "\n",
        "input_string = \"this is a test sentence.\"\n",
        "result = capitalize_words(input_string)\n",
        "print(result)\n"
      ],
      "metadata": {
        "colab": {
          "base_uri": "https://localhost:8080/"
        },
        "id": "iaDGdo9SSGG6",
        "outputId": "443b1fd7-9d2a-4cac-be70-45473d2ba972"
      },
      "execution_count": 10,
      "outputs": [
        {
          "output_type": "stream",
          "name": "stdout",
          "text": [
            "This Is A Test Sentence.\n"
          ]
        }
      ]
    },
    {
      "cell_type": "markdown",
      "source": [
        "Time Complexity:- O(n)"
      ],
      "metadata": {
        "id": "DE3XwKUaS0Cp"
      }
    }
  ]
}