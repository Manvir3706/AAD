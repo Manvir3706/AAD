{
  "nbformat": 4,
  "nbformat_minor": 0,
  "metadata": {
    "colab": {
      "provenance": []
    },
    "kernelspec": {
      "name": "python3",
      "display_name": "Python 3"
    },
    "language_info": {
      "name": "python"
    }
  },
  "cells": [
    {
      "cell_type": "markdown",
      "source": [
        "# Assignment-5\n",
        "*Manvir Singh 3NC4 102115094*"
      ],
      "metadata": {
        "id": "blxuNorvHuZA"
      }
    },
    {
      "cell_type": "markdown",
      "source": [
        "Write a program to implement Karatsuba's multiplication algorithm."
      ],
      "metadata": {
        "id": "QnI3G1xeHqjJ"
      }
    },
    {
      "cell_type": "code",
      "execution_count": 2,
      "metadata": {
        "colab": {
          "base_uri": "https://localhost:8080/"
        },
        "id": "NmgL7pQCHPFd",
        "outputId": "e8e7c70a-64d7-418d-f1fd-b6d17e0eaace"
      },
      "outputs": [
        {
          "output_type": "stream",
          "name": "stdout",
          "text": [
            "83810205\n"
          ]
        }
      ],
      "source": [
        "def karatsuba(x, y):\n",
        "    if x < 10 or y < 10:\n",
        "        return x * y\n",
        "\n",
        "    n = max(len(str(x)), len(str(y)))\n",
        "    m = n // 2\n",
        "\n",
        "    a, b = divmod(x, 10**m)\n",
        "    c, d = divmod(y, 10**m)\n",
        "\n",
        "    ac = karatsuba(a, c)\n",
        "    bd = karatsuba(b, d)\n",
        "    ad_bc = karatsuba((a + b), (c + d)) - ac - bd\n",
        "\n",
        "    result = ac * 10**(2 * m) + ad_bc * 10**m + bd\n",
        "\n",
        "    return result\n",
        "\n",
        "x = 12345\n",
        "y = 6789\n",
        "result = karatsuba(x, y)\n",
        "print(result)\n"
      ]
    },
    {
      "cell_type": "markdown",
      "source": [
        "Time complexity:- O(n^2)"
      ],
      "metadata": {
        "id": "Bj6xegoAH40G"
      }
    }
  ]
}