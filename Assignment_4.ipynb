{
  "nbformat": 4,
  "nbformat_minor": 0,
  "metadata": {
    "colab": {
      "provenance": []
    },
    "kernelspec": {
      "name": "python3",
      "display_name": "Python 3"
    },
    "language_info": {
      "name": "python"
    }
  },
  "cells": [
    {
      "cell_type": "markdown",
      "source": [
        "**Assignment-4**\n",
        "\n",
        "*Manvir Singh  3NC4  102115094*"
      ],
      "metadata": {
        "id": "3RXCk1-snzzh"
      }
    },
    {
      "cell_type": "markdown",
      "source": [
        "i.) Code the logic in any programming language\n",
        "(C/C++/Java/Python)\n",
        "\n",
        "ii.) Analysis of each and every algorithm and\n",
        "give its complexity.\n",
        "\n",
        "\n",
        "1. Write a program to implement Kruskal's MST algorithm.\n",
        "\n",
        "2. Write a program to implement Prim's MST algorithm."
      ],
      "metadata": {
        "id": "RGAPqGzSntsl"
      }
    },
    {
      "cell_type": "code",
      "execution_count": 1,
      "metadata": {
        "colab": {
          "base_uri": "https://localhost:8080/"
        },
        "id": "VzKXp7alnhmu",
        "outputId": "9083b869-425b-4051-d3d0-70791adcffd1"
      },
      "outputs": [
        {
          "output_type": "stream",
          "name": "stdout",
          "text": [
            "2 - 3: 4\n",
            "0 - 3: 5\n",
            "0 - 1: 10\n"
          ]
        }
      ],
      "source": [
        "class Graph:\n",
        "    def __init__(self, vertices):\n",
        "        self.V = vertices\n",
        "        self.graph = []\n",
        "\n",
        "    def add_edge(self, u, v, w):\n",
        "        self.graph.append([u, v, w])\n",
        "\n",
        "    def kruskal_mst(self):\n",
        "        self.graph = sorted(self.graph, key=lambda item: item[2])\n",
        "        parent = [i for i in range(self.V)]\n",
        "        result = []\n",
        "        i, e = 0, 0\n",
        "        while e < self.V - 1:\n",
        "            u, v, w = self.graph[i]\n",
        "            i += 1\n",
        "            x = self.find(parent, u)\n",
        "            y = self.find(parent, v)\n",
        "            if x != y:\n",
        "                e += 1\n",
        "                result.append([u, v, w])\n",
        "                self.union(parent, x, y)\n",
        "        return result\n",
        "\n",
        "    def find(self, parent, i):\n",
        "        if parent[i] == i:\n",
        "            return i\n",
        "        return self.find(parent, parent[i])\n",
        "\n",
        "    def union(self, parent, x, y):\n",
        "        x_set = self.find(parent, x)\n",
        "        y_set = self.find(parent, y)\n",
        "        parent[x_set] = y_set\n",
        "\n",
        "# Example usage:\n",
        "g = Graph(4)\n",
        "g.add_edge(0, 1, 10)\n",
        "g.add_edge(0, 2, 6)\n",
        "g.add_edge(0, 3, 5)\n",
        "g.add_edge(1, 3, 15)\n",
        "g.add_edge(2, 3, 4)\n",
        "kruskal_result = g.kruskal_mst()\n",
        "for u, v, w in kruskal_result:\n",
        "    print(f\"{u} - {v}: {w}\")\n"
      ]
    },
    {
      "cell_type": "markdown",
      "source": [
        "Time Complexity: O(E log E) where E is the number of edges.\n",
        "\n",
        "Space Complexity: O(V + E) where V is the number of vertices."
      ],
      "metadata": {
        "id": "DDh-6GDioMfV"
      }
    },
    {
      "cell_type": "code",
      "source": [
        "import sys\n",
        "\n",
        "class Graph:\n",
        "    def __init__(self, vertices):\n",
        "        self.V = vertices\n",
        "        self.graph = [[0 for _ in range(vertices)] for _ in range(vertices)]\n",
        "\n",
        "    def add_edge(self, u, v, w):\n",
        "        self.graph[u][v] = w\n",
        "        self.graph[v][u] = w\n",
        "\n",
        "    def prim_mst(self):\n",
        "        key = [sys.maxsize] * self.V\n",
        "        parent = [-1] * self.V\n",
        "        key[0] = 0\n",
        "        mst_set = [False] * self.V\n",
        "\n",
        "        for _ in range(self.V):\n",
        "            u = self.min_key(key, mst_set)\n",
        "            mst_set[u] = True\n",
        "            for v in range(self.V):\n",
        "                if (\n",
        "                    self.graph[u][v] > 0\n",
        "                    and mst_set[v] is False\n",
        "                    and key[v] > self.graph[u][v]\n",
        "                ):\n",
        "                    key[v] = self.graph[u][v]\n",
        "                    parent[v] = u\n",
        "\n",
        "        mst_result = []\n",
        "        for i in range(1, self.V):\n",
        "            mst_result.append([parent[i], i, self.graph[i][parent[i]]])\n",
        "        return mst_result\n",
        "\n",
        "    def min_key(self, key, mst_set):\n",
        "        min_val = sys.maxsize\n",
        "        min_index = -1\n",
        "        for v in range(self.V):\n",
        "            if key[v] < min_val and mst_set[v] is False:\n",
        "                min_val = key[v]\n",
        "                min_index = v\n",
        "        return min_index\n",
        "\n",
        "# Example usage:\n",
        "g = Graph(4)\n",
        "g.add_edge(0, 1, 10)\n",
        "g.add_edge(0, 2, 6)\n",
        "g.add_edge(0, 3, 5)\n",
        "g.add_edge(1, 3, 15)\n",
        "g.add_edge(2, 3, 4)\n",
        "prim_result = g.prim_mst()\n",
        "for u, v, w in prim_result:\n",
        "    print(f\"{u} - {v}: {w}\")"
      ],
      "metadata": {
        "colab": {
          "base_uri": "https://localhost:8080/"
        },
        "id": "zS5Nd2fSnpUy",
        "outputId": "98e7ebbc-7f80-4486-cab9-600e574f4534"
      },
      "execution_count": 2,
      "outputs": [
        {
          "output_type": "stream",
          "name": "stdout",
          "text": [
            "0 - 1: 10\n",
            "3 - 2: 4\n",
            "0 - 3: 5\n"
          ]
        }
      ]
    },
    {
      "cell_type": "markdown",
      "source": [
        "Time Complexity: O(V^2) for an adjacency matrix implementation or O(V^2 + E) for an adjacency list implementation.\n",
        "\n",
        "Space Complexity: O(V^2) for an adjacency matrix implementation or O(V + E) for an adjacency list implementation."
      ],
      "metadata": {
        "id": "mOA2ytvboSo3"
      }
    }
  ]
}