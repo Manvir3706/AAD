{
  "nbformat": 4,
  "nbformat_minor": 0,
  "metadata": {
    "colab": {
      "provenance": []
    },
    "kernelspec": {
      "name": "python3",
      "display_name": "Python 3"
    },
    "language_info": {
      "name": "python"
    }
  },
  "cells": [
    {
      "cell_type": "markdown",
      "source": [
        "**ASSIGNMENT-3**\n",
        "\n",
        "*Manvir Singh 3NC4 102115094*\n",
        "\n",
        "Analysis the complexity of algorithms\n",
        "\n",
        "\n",
        "i.) Code the logic in any programming language\n",
        "(C/C++/Java/Python)\n",
        "\n",
        "ii.) Analysis of each and every algorithm and\n",
        "give its complexity."
      ],
      "metadata": {
        "id": "isDMohBtT_jk"
      }
    },
    {
      "cell_type": "markdown",
      "source": [
        "Write a program to implement Interpolation search."
      ],
      "metadata": {
        "id": "ra5dGXxaUKyQ"
      }
    },
    {
      "cell_type": "code",
      "execution_count": 3,
      "metadata": {
        "colab": {
          "base_uri": "https://localhost:8080/"
        },
        "id": "zdB3cqk0TrE2",
        "outputId": "3e59d830-96e1-4e09-b492-d8a61d87c8f1"
      },
      "outputs": [
        {
          "output_type": "stream",
          "name": "stdout",
          "text": [
            "Element found at index 6\n"
          ]
        }
      ],
      "source": [
        "def interpolation_search(arr, x):\n",
        "    lo = 0\n",
        "    hi = len(arr) - 1\n",
        "\n",
        "    while lo <= hi and x >= arr[lo] and x <= arr[hi]:\n",
        "        if lo == hi:\n",
        "            if arr[lo] == x:\n",
        "                return lo\n",
        "            return -1\n",
        "\n",
        "        pos = lo + ((x - arr[lo]) * (hi - lo)) // (arr[hi] - arr[lo])\n",
        "\n",
        "        if arr[pos] == x:\n",
        "            return pos\n",
        "        elif arr[pos] < x:\n",
        "            lo = pos + 1\n",
        "        else:\n",
        "            hi = pos - 1\n",
        "\n",
        "    return -1\n",
        "\n",
        "arr = [2, 4, 6, 8, 10, 12, 14, 16, 18, 20]\n",
        "x = 14\n",
        "result = interpolation_search(arr, x)\n",
        "if result != -1:\n",
        "    print(f\"Element found at index {result}\")\n",
        "else:\n",
        "    print(\"Element not found\")\n"
      ]
    },
    {
      "cell_type": "markdown",
      "source": [
        "Time Complexity:- O(n)"
      ],
      "metadata": {
        "id": "utupproFVhsr"
      }
    },
    {
      "cell_type": "markdown",
      "source": [
        "Write a program to find Maximum and Minimum in the given list."
      ],
      "metadata": {
        "id": "QfshWW8-Vmq1"
      }
    },
    {
      "cell_type": "code",
      "source": [
        "def find_max(arr):\n",
        "    if len(arr) == 0:\n",
        "        return None\n",
        "\n",
        "    max_val = arr[0]\n",
        "\n",
        "    for num in arr:\n",
        "        if num > max_val:\n",
        "            max_val = num\n",
        "\n",
        "    return max_val\n",
        "\n",
        "def find_min(arr):\n",
        "    if len(arr) == 0:\n",
        "        return None\n",
        "\n",
        "    min_val = arr[0]\n",
        "\n",
        "    for num in arr:\n",
        "        if num < min_val:\n",
        "            min_val = num\n",
        "\n",
        "    return min_val\n",
        "\n",
        "arr = [13, 25, 22, 18, 19, 27]\n",
        "max_num = find_max(arr)\n",
        "min_num = find_min(arr)\n",
        "print(f\"Maximum value: {max_num}\")\n",
        "print(f\"Minimum value: {min_num}\")"
      ],
      "metadata": {
        "colab": {
          "base_uri": "https://localhost:8080/"
        },
        "id": "VRxm7etHVooX",
        "outputId": "e97983dc-7158-4efb-99f3-060bba398f33"
      },
      "execution_count": 5,
      "outputs": [
        {
          "output_type": "stream",
          "name": "stdout",
          "text": [
            "Maximum value: 27\n",
            "Minimum value: 13\n"
          ]
        }
      ]
    },
    {
      "cell_type": "markdown",
      "source": [
        "Time Complexity:- O(n)"
      ],
      "metadata": {
        "id": "mKizr8y4WNN7"
      }
    },
    {
      "cell_type": "markdown",
      "source": [
        "Write a program to find the Median from the given list."
      ],
      "metadata": {
        "id": "nCvbc79PWSGY"
      }
    },
    {
      "cell_type": "code",
      "source": [
        "def find_median(arr):\n",
        "    arr.sort()\n",
        "    n = len(arr)\n",
        "\n",
        "    if n % 2 == 0:\n",
        "        median1 = arr[n // 2]\n",
        "        median2 = arr[n // 2 - 1]\n",
        "        median = (median1 + median2) / 2\n",
        "    else:\n",
        "        median = arr[n // 2]\n",
        "\n",
        "    return median\n",
        "\n",
        "arr = [3, 1, 4, 1, 5, 9, 2, 6, 5, 3, 5]\n",
        "median = find_median(arr)\n",
        "print(f\"Median: {median}\")"
      ],
      "metadata": {
        "colab": {
          "base_uri": "https://localhost:8080/"
        },
        "id": "HhzBYh56WU5k",
        "outputId": "f726752b-62e7-4108-ec0b-27ceda652dd6"
      },
      "execution_count": 6,
      "outputs": [
        {
          "output_type": "stream",
          "name": "stdout",
          "text": [
            "Median: 4\n"
          ]
        }
      ]
    },
    {
      "cell_type": "markdown",
      "source": [
        "Time Complexity:- O(nlog(n))"
      ],
      "metadata": {
        "id": "t4Q_C4-oWgMt"
      }
    },
    {
      "cell_type": "markdown",
      "source": [
        "Write a program to implement Tower of Hanoi."
      ],
      "metadata": {
        "id": "lqyDGFGAWnQy"
      }
    },
    {
      "cell_type": "code",
      "source": [
        "def tower_of_hanoi(n, source, aux, tar):\n",
        "    if n == 1:\n",
        "        print(f\"Move disk 1 from {source} to {tar}\")\n",
        "        return\n",
        "    tower_of_hanoi(n-1, source, tar, aux)\n",
        "    print(f\"Move disk {n} from {source} to {tar}\")\n",
        "    tower_of_hanoi(n-1, aux, source, tar)\n",
        "\n",
        "n = 3\n",
        "tower_of_hanoi(n, 'A', 'B', 'C')"
      ],
      "metadata": {
        "colab": {
          "base_uri": "https://localhost:8080/"
        },
        "id": "UyoutBtCWpDq",
        "outputId": "6736d629-7a34-4495-c832-bcf015c554c9"
      },
      "execution_count": 7,
      "outputs": [
        {
          "output_type": "stream",
          "name": "stdout",
          "text": [
            "Move disk 1 from A to C\n",
            "Move disk 2 from A to B\n",
            "Move disk 1 from C to B\n",
            "Move disk 3 from A to C\n",
            "Move disk 1 from B to A\n",
            "Move disk 2 from B to C\n",
            "Move disk 1 from A to C\n"
          ]
        }
      ]
    },
    {
      "cell_type": "markdown",
      "source": [
        "Time Complexity:- O(2^n)"
      ],
      "metadata": {
        "id": "juU_7CdAW-vp"
      }
    }
  ]
}