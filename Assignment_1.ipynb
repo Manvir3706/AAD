{
  "nbformat": 4,
  "nbformat_minor": 0,
  "metadata": {
    "colab": {
      "provenance": []
    },
    "kernelspec": {
      "name": "python3",
      "display_name": "Python 3"
    },
    "language_info": {
      "name": "python"
    }
  },
  "cells": [
    {
      "cell_type": "markdown",
      "source": [
        "**ASSIGNMENT-1**\n",
        "\n",
        "Analysis the complexity of algorithms\n",
        "\n",
        "\n",
        "i.) Code the logic in any programming language\n",
        "(C/C++/Java/Python)\n",
        "\n",
        "\n",
        "ii.) Analysis of each and every algorithm and give its\n",
        "complexity."
      ],
      "metadata": {
        "id": "RQw6wXk3LBCu"
      }
    },
    {
      "cell_type": "markdown",
      "source": [
        "A. Union of two lists."
      ],
      "metadata": {
        "id": "hUVI9U8vLMnj"
      }
    },
    {
      "cell_type": "code",
      "execution_count": 2,
      "metadata": {
        "colab": {
          "base_uri": "https://localhost:8080/"
        },
        "id": "CFLSgHcNGIz4",
        "outputId": "df36240c-f412-48a7-b24e-3cb59fd0b87e"
      },
      "outputs": [
        {
          "output_type": "stream",
          "name": "stdout",
          "text": [
            "[1, 2, 3, 4, 5]\n"
          ]
        }
      ],
      "source": [
        "def union(list1, list2):\n",
        "    ans=list(set(list1 + list2))\n",
        "    return ans\n",
        "\n",
        "list1 = [1, 2, 3]\n",
        "list2 = [3, 4, 5]\n",
        "result = union(list1, list2)\n",
        "print(result)"
      ]
    },
    {
      "cell_type": "markdown",
      "source": [
        "Time Complexity:- O(n*log(n))"
      ],
      "metadata": {
        "id": "yt0NUUUOG9uZ"
      }
    },
    {
      "cell_type": "markdown",
      "source": [
        "B. Find the intersection of two lists.\n"
      ],
      "metadata": {
        "id": "LYTbjTgNLQFl"
      }
    },
    {
      "cell_type": "code",
      "source": [
        "def intersection(list1, list2):\n",
        "    ans=list(set(list1) & set(list2))\n",
        "    return ans\n",
        "\n",
        "list1 = [1, 2, 3]\n",
        "list2 = [3, 4, 5]\n",
        "result = intersection(list1, list2)\n",
        "print(result)"
      ],
      "metadata": {
        "colab": {
          "base_uri": "https://localhost:8080/"
        },
        "id": "cIQ_JYz5Gk33",
        "outputId": "9fc1c09a-e190-4393-846f-16d68f5385b2"
      },
      "execution_count": 4,
      "outputs": [
        {
          "output_type": "stream",
          "name": "stdout",
          "text": [
            "[3]\n"
          ]
        }
      ]
    },
    {
      "cell_type": "markdown",
      "source": [
        "Time Complexity:- O(n*log(n))"
      ],
      "metadata": {
        "id": "2HhdUlCCHQqO"
      }
    },
    {
      "cell_type": "markdown",
      "source": [
        "C. Remove the “i” th occurrence of the given word in a list\n",
        "where words repeat"
      ],
      "metadata": {
        "id": "dKupuahJLXtn"
      }
    },
    {
      "cell_type": "code",
      "source": [
        "def remove_ith(list1, word, i):\n",
        "    count = 0\n",
        "    list2 = []\n",
        "\n",
        "    for n in list1:\n",
        "        if n == word:\n",
        "            count += 1\n",
        "            if count != i:\n",
        "                list2.append(n)\n",
        "        else:\n",
        "            list2.append(n)\n",
        "\n",
        "    return list2\n",
        "\n",
        "list1 = [\"apple\", \"banana\", \"apple\", \"cherry\", \"apple\"]\n",
        "word = \"apple\"\n",
        "i = 2\n",
        "result = remove_ith(list1, word, i)\n",
        "print(result)"
      ],
      "metadata": {
        "colab": {
          "base_uri": "https://localhost:8080/"
        },
        "id": "IImfcylfHnQb",
        "outputId": "85f2edfe-4310-487f-aa76-b449f8fbdbdb"
      },
      "execution_count": 6,
      "outputs": [
        {
          "output_type": "stream",
          "name": "stdout",
          "text": [
            "['apple', 'banana', 'cherry', 'apple']\n"
          ]
        }
      ]
    },
    {
      "cell_type": "markdown",
      "source": [
        "Time Complexity:- O(n)"
      ],
      "metadata": {
        "id": "s7UBCR5vIs_f"
      }
    },
    {
      "cell_type": "markdown",
      "source": [
        "D. Count the occurrences of each word in a given string\n",
        "sentence."
      ],
      "metadata": {
        "id": "yQVdxsa-LcOA"
      }
    },
    {
      "cell_type": "code",
      "source": [
        "def word_occurrences(sentence):\n",
        "    words = sentence.split()\n",
        "\n",
        "    count = {}\n",
        "\n",
        "    for word in words:\n",
        "        cleaned = word.strip(\".,!?\").lower()\n",
        "        if cleaned:\n",
        "            if cleaned in count:\n",
        "                count[cleaned] += 1\n",
        "            else:\n",
        "                count[cleaned] = 1\n",
        "\n",
        "    return count\n",
        "\n",
        "sentence = \"This is a test. This test is a simple check.\"\n",
        "result = word_occurrences(sentence)\n",
        "print(result)\n"
      ],
      "metadata": {
        "colab": {
          "base_uri": "https://localhost:8080/"
        },
        "id": "7V_9OHe_IysP",
        "outputId": "8bfb4ba4-7bdc-4829-9087-e0848bc7d14e"
      },
      "execution_count": 8,
      "outputs": [
        {
          "output_type": "stream",
          "name": "stdout",
          "text": [
            "{'this': 2, 'is': 2, 'a': 2, 'test': 2, 'simple': 1, 'check': 1}\n"
          ]
        }
      ]
    },
    {
      "cell_type": "markdown",
      "source": [
        "Time Complexity:- O(n)"
      ],
      "metadata": {
        "id": "XC9wGT1VKDTA"
      }
    },
    {
      "cell_type": "markdown",
      "source": [
        "E. Check if a substring is present in a given\n",
        "string."
      ],
      "metadata": {
        "id": "6A25DtTdLlZn"
      }
    },
    {
      "cell_type": "code",
      "source": [
        "def is_substring_present(string, substring):\n",
        "    return substring in string\n",
        "\n",
        "m = \"Hello, Mohan!\"\n",
        "n = \"Mohan\"\n",
        "result = is_substring_present(m, n)\n",
        "print(result)"
      ],
      "metadata": {
        "colab": {
          "base_uri": "https://localhost:8080/"
        },
        "id": "ecrthne2KItH",
        "outputId": "9483014f-5d40-4e23-db9e-3089dfceb3b6"
      },
      "execution_count": 9,
      "outputs": [
        {
          "output_type": "stream",
          "name": "stdout",
          "text": [
            "True\n"
          ]
        }
      ]
    },
    {
      "cell_type": "markdown",
      "source": [
        "Time Complexity:- O(m*n)"
      ],
      "metadata": {
        "id": "2L1tXrt7LoV3"
      }
    }
  ]
}