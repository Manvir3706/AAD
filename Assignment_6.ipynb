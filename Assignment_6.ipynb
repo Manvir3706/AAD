{
  "nbformat": 4,
  "nbformat_minor": 0,
  "metadata": {
    "colab": {
      "provenance": []
    },
    "kernelspec": {
      "name": "python3",
      "display_name": "Python 3"
    },
    "language_info": {
      "name": "python"
    }
  },
  "cells": [
    {
      "cell_type": "markdown",
      "source": [
        "# Assignment-6"
      ],
      "metadata": {
        "id": "b62BI6jyE6a2"
      }
    },
    {
      "cell_type": "markdown",
      "source": [
        "*Manvir Singh 102115094 3NC4*"
      ],
      "metadata": {
        "id": "RBgxvHrvG0i9"
      }
    },
    {
      "cell_type": "markdown",
      "source": [
        "Write a Program to find the maximum flow in a network using ford Fulkerson's Algorithm."
      ],
      "metadata": {
        "id": "cN2DSuAYG5BH"
      }
    },
    {
      "cell_type": "code",
      "execution_count": 8,
      "metadata": {
        "colab": {
          "base_uri": "https://localhost:8080/"
        },
        "id": "PJTle8mxE2aX",
        "outputId": "ce3334e8-c2cb-4e80-b40f-9520e4b41833"
      },
      "outputs": [
        {
          "output_type": "stream",
          "name": "stdout",
          "text": [
            "The maximum possible flow is 23\n",
            "The augmenting path is: [0, 2, 4, 3, 5, 0, 1, 3, 5, 5, 4, 2, 0]\n"
          ]
        }
      ],
      "source": [
        "from collections import defaultdict\n",
        "\n",
        "class Graph:\n",
        "    def __init__(self, graph):\n",
        "        self.graph = graph\n",
        "        self.ROW = len(graph)\n",
        "\n",
        "    def BFS(self, s, t, parent):\n",
        "        visited = [False] * (self.ROW)\n",
        "        queue = []\n",
        "        queue.append(s)\n",
        "        visited[s] = True\n",
        "        while queue:\n",
        "            u = queue.pop(0)\n",
        "            for ind, val in enumerate(self.graph[u]):\n",
        "                if visited[ind] == False and val > 0:\n",
        "                    queue.append(ind)\n",
        "                    visited[ind] = True\n",
        "                    parent[ind] = u\n",
        "                    if ind == t:\n",
        "                        return True\n",
        "        return False\n",
        "\n",
        "    def FordFulkerson(self, source, sink):\n",
        "        parent = [-1] * (self.ROW)\n",
        "        max_flow = 0\n",
        "        path = []\n",
        "        while self.BFS(source, sink, parent):\n",
        "            path_flow = float(\"Inf\")\n",
        "            s = sink\n",
        "            while s != source:\n",
        "                path.append(s)\n",
        "                path_flow = min(path_flow, self.graph[parent[s]][s])\n",
        "                s = parent[s]\n",
        "            path.append(source)\n",
        "            path.reverse()\n",
        "            max_flow += path_flow\n",
        "            v = sink\n",
        "            while v != source:\n",
        "                u = parent[v]\n",
        "                self.graph[u][v] -= path_flow\n",
        "                self.graph[v][u] += path_flow\n",
        "                v = parent[v]\n",
        "        return max_flow, path\n",
        "\n",
        "graph = [[0, 16, 13, 0, 0, 0],\n",
        "        [0, 0, 10, 12, 0, 0],\n",
        "        [0, 4, 0, 0, 14, 0],\n",
        "        [0, 0, 9, 0, 0, 20],\n",
        "        [0, 0, 0, 7, 0, 4],\n",
        "        [0, 0, 0, 0, 0, 0]]\n",
        "\n",
        "g = Graph(graph)\n",
        "\n",
        "source = 0\n",
        "sink = 5\n",
        "\n",
        "max_flow, augmenting_path = g.FordFulkerson(source, sink)\n",
        "print(\"The maximum possible flow is %d\" % max_flow)\n",
        "print(\"The augmenting path is:\", augmenting_path)\n"
      ]
    }
  ]
}