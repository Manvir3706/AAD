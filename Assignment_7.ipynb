{
  "nbformat": 4,
  "nbformat_minor": 0,
  "metadata": {
    "colab": {
      "provenance": []
    },
    "kernelspec": {
      "name": "python3",
      "display_name": "Python 3"
    },
    "language_info": {
      "name": "python"
    }
  },
  "cells": [
    {
      "cell_type": "markdown",
      "source": [
        "# Assignment-7\n",
        "*Manvir Singh 102115094 3NC4*\n",
        "\n",
        "Write a program to implement Least Common Ancestor (LCA) in a tree."
      ],
      "metadata": {
        "id": "XATnCPjp4qoo"
      }
    },
    {
      "cell_type": "code",
      "execution_count": 1,
      "metadata": {
        "colab": {
          "base_uri": "https://localhost:8080/"
        },
        "id": "GZYfo-j_4eOj",
        "outputId": "f92cdaed-f3b2-44f7-97ff-3107ee91bf03"
      },
      "outputs": [
        {
          "output_type": "stream",
          "name": "stdout",
          "text": [
            "The Lowest Common Ancestor of 5 and 1 is 3\n"
          ]
        }
      ],
      "source": [
        "class TreeNode:\n",
        "    def __init__(self, key):\n",
        "        self.key = key\n",
        "        self.left = None\n",
        "        self.right = None\n",
        "\n",
        "def find_lca(root, node1, node2):\n",
        "    if root is None:\n",
        "        return None\n",
        "\n",
        "    if root.key == node1 or root.key == node2:\n",
        "        return root\n",
        "\n",
        "    left_lca = find_lca(root.left, node1, node2)\n",
        "    right_lca = find_lca(root.right, node1, node2)\n",
        "\n",
        "    if left_lca is not None and right_lca is not None:\n",
        "        return root\n",
        "\n",
        "    return left_lca if left_lca is not None else right_lca\n",
        "\n",
        "# Helper function to find if a given key exists in the tree\n",
        "def is_in_tree(root, key):\n",
        "    if root is None:\n",
        "        return False\n",
        "\n",
        "    if root.key == key:\n",
        "        return True\n",
        "\n",
        "    return is_in_tree(root.left, key) or is_in_tree(root.right, key)\n",
        "\n",
        "# Example usage\n",
        "if __name__ == \"__main__\":\n",
        "    root = TreeNode(3)\n",
        "    root.left = TreeNode(5)\n",
        "    root.right = TreeNode(1)\n",
        "    root.left.left = TreeNode(6)\n",
        "    root.left.right = TreeNode(2)\n",
        "    root.right.left = TreeNode(0)\n",
        "    root.right.right = TreeNode(8)\n",
        "    root.left.right.left = TreeNode(7)\n",
        "    root.left.right.right = TreeNode(4)\n",
        "\n",
        "    node1 = 5\n",
        "    node2 = 1\n",
        "\n",
        "    if is_in_tree(root, node1) and is_in_tree(root, node2):\n",
        "        lca = find_lca(root, node1, node2)\n",
        "        if lca:\n",
        "            print(f\"The Lowest Common Ancestor of {node1} and {node2} is {lca.key}\")\n",
        "        else:\n",
        "            print(f\"No common ancestor found\")\n",
        "    else:\n",
        "        print(f\"One or both of the nodes ({node1}, {node2}) are not in the tree.\")\n"
      ]
    }
  ]
}